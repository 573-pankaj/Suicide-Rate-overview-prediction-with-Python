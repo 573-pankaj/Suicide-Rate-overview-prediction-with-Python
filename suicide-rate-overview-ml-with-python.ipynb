{
 "cells": [
  {
   "attachments": {
    "file-20181012-119117-1ie1xwy.jpg": {
     "image/jpeg": "[encoded data removed]"
    }
   },
   "cell_type": "markdown",
   "metadata": {
    "papermill": {
     "duration": 0.032788,
     "end_time": "2020-11-08T09:23:24.907589",
     "exception": false,
     "start_time": "2020-11-08T09:23:24.874801",
     "status": "completed"
    },
    "tags": []
   },
   "source": [
    "![file-20181012-119117-1ie1xwy.jpg](attachment:file-20181012-119117-1ie1xwy.jpg)"
   ]
  },
  {
   "cell_type": "markdown",
   "metadata": {
    "papermill": {
     "duration": 0.029705,
     "end_time": "2020-11-08T09:23:24.967960",
     "exception": false,
     "start_time": "2020-11-08T09:23:24.938255",
     "status": "completed"
    },
    "tags": []
   },
   "source": [
    "# Libraries"
   ]
  },
  {
   "cell_type": "code",
   "execution_count": 1,
   "metadata": {
    "execution": {
     "iopub.execute_input": "2020-11-08T09:23:25.036243Z",
     "iopub.status.busy": "2020-11-08T09:23:25.035522Z",
     "iopub.status.idle": "2020-11-08T09:23:26.172753Z",
     "shell.execute_reply": "2020-11-08T09:23:26.171966Z"
    },
    "papermill": {
     "duration": 1.174075,
     "end_time": "2020-11-08T09:23:26.172881",
     "exception": false,
     "start_time": "2020-11-08T09:23:24.998806",
     "status": "completed"
    },
    "tags": []
   },
   "outputs": [],
   "source": [
    "# libraries \n",
    "import matplotlib.pyplot as plt\n",
    "import seaborn as srn\n",
    "from sklearn.ensemble import RandomForestRegressor\n",
    "from sklearn import linear_model\n",
    "from sklearn.metrics import*\n",
    "from sklearn.model_selection import train_test_split"
   ]
  },
  {
   "cell_type": "markdown",
   "metadata": {
    "papermill": {
     "duration": 0.03051,
     "end_time": "2020-11-08T09:23:26.234837",
     "exception": false,
     "start_time": "2020-11-08T09:23:26.204327",
     "status": "completed"
    },
    "tags": []
   },
   "source": [
    "# Data gathering and visulaization"
   ]
  },
  {
   "cell_type": "code",
   "execution_count": 2,
   "metadata": {
    "_cell_guid": "b1076dfc-b9ad-4769-8c92-a6c4dae69d19",
    "_uuid": "8f2839f25d086af736a60e9eeb907d3b93b6e0e5",
    "execution": {
     "iopub.execute_input": "2020-11-08T09:23:26.305341Z",
     "iopub.status.busy": "2020-11-08T09:23:26.304416Z",
     "iopub.status.idle": "2020-11-08T09:23:26.311123Z",
     "shell.execute_reply": "2020-11-08T09:23:26.311924Z"
    },
    "papermill": {
     "duration": 0.045575,
     "end_time": "2020-11-08T09:23:26.312114",
     "exception": false,
     "start_time": "2020-11-08T09:23:26.266539",
     "status": "completed"
    },
    "tags": []
   },
   "outputs": [
    {
     "name": "stdout",
     "output_type": "stream",
     "text": [
      "/kaggle/input/suicide-rates-overview-1985-to-2016/master.csv\n"
     ]
    }
   ],
   "source": [
    "# This Python 3 environment comes with many helpful analytics libraries installed\n",
    "# It is defined by the kaggle/python Docker image: https://github.com/kaggle/docker-python\n",
    "# For example, here's several helpful packages to load\n",
    "\n",
    "import numpy as np # linear algebra\n",
    "import pandas as pd # data processing, CSV file I/O (e.g. pd.read_csv)\n",
    "\n",
    "# Input data files are available in the read-only \"../input/\" directory\n",
    "# For example, running this (by clicking run or pressing Shift+Enter) will list all files under the input directory\n",
    "\n",
    "import os\n",
    "for dirname, _, filenames in os.walk('/kaggle/input'):\n",
    "    for filename in filenames:\n",
    "        print(os.path.join(dirname, filename))\n",
    "\n",
    "# You can write up to 20GB to the current directory (/kaggle/working/) that gets preserved as output when you create a version using \"Save & Run All\" \n",
    "# You can also write temporary files to /kaggle/temp/, but they won't be saved outside of the current session"
   ]
  },
  {
   "cell_type": "code",
   "execution_count": 3,
   "metadata": {
    "_cell_guid": "79c7e3d0-c299-4dcb-8224-4455121ee9b0",
    "_uuid": "d629ff2d2480ee46fbb7e2d37f6b5fab8052498a",
    "execution": {
     "iopub.execute_input": "2020-11-08T09:23:26.383413Z",
     "iopub.status.busy": "2020-11-08T09:23:26.382633Z",
     "iopub.status.idle": "2020-11-08T09:23:26.505347Z",
     "shell.execute_reply": "2020-11-08T09:23:26.504747Z"
    },
    "papermill": {
     "duration": 0.160211,
     "end_time": "2020-11-08T09:23:26.505470",
     "exception": false,
     "start_time": "2020-11-08T09:23:26.345259",
     "status": "completed"
    },
    "tags": []
   },
   "outputs": [
    {
     "data": {
      "text/html": [
       "<div>\n",
       "<style scoped>\n",
       "    .dataframe tbody tr th:only-of-type {\n",
       "        vertical-align: middle;\n",
       "    }\n",
       "\n",
       "    .dataframe tbody tr th {\n",
       "        vertical-align: top;\n",
       "    }\n",
       "\n",
       "    .dataframe thead th {\n",
       "        text-align: right;\n",
       "    }\n",
       "</style>\n",
       "<table border=\"1\" class=\"dataframe\">\n",
       "  <thead>\n",
       "    <tr style=\"text-align: right;\">\n",
       "      <th></th>\n",
       "      <th>country</th>\n",
       "      <th>year</th>\n",
       "      <th>sex</th>\n",
       "      <th>age</th>\n",
       "      <th>suicides_no</th>\n",
       "      <th>population</th>\n",
       "      <th>suicides/100k pop</th>\n",
       "      <th>country-year</th>\n",
       "      <th>HDI for year</th>\n",
       "      <th>gdp_for_year ($)</th>\n",
       "      <th>gdp_per_capita ($)</th>\n",
       "      <th>generation</th>\n",
       "    </tr>\n",
       "  </thead>\n",
       "  <tbody>\n",
       "    <tr>\n",
       "      <th>0</th>\n",
       "      <td>Albania</td>\n",
       "      <td>1987</td>\n",
       "      <td>male</td>\n",
       "      <td>15-24 years</td>\n",
       "      <td>21</td>\n",
       "      <td>312900</td>\n",
       "      <td>6.71</td>\n",
       "      <td>Albania1987</td>\n",
       "      <td>NaN</td>\n",
       "      <td>2,156,624,900</td>\n",
       "      <td>796</td>\n",
       "      <td>Generation X</td>\n",
       "    </tr>\n",
       "    <tr>\n",
       "      <th>1</th>\n",
       "      <td>Albania</td>\n",
       "      <td>1987</td>\n",
       "      <td>male</td>\n",
       "      <td>35-54 years</td>\n",
       "      <td>16</td>\n",
       "      <td>308000</td>\n",
       "      <td>5.19</td>\n",
       "      <td>Albania1987</td>\n",
       "      <td>NaN</td>\n",
       "      <td>2,156,624,900</td>\n",
       "      <td>796</td>\n",
       "      <td>Silent</td>\n",
       "    </tr>\n",
       "    <tr>\n",
       "      <th>2</th>\n",
       "      <td>Albania</td>\n",
       "      <td>1987</td>\n",
       "      <td>female</td>\n",
       "      <td>15-24 years</td>\n",
       "      <td>14</td>\n",
       "      <td>289700</td>\n",
       "      <td>4.83</td>\n",
       "      <td>Albania1987</td>\n",
       "      <td>NaN</td>\n",
       "      <td>2,156,624,900</td>\n",
       "      <td>796</td>\n",
       "      <td>Generation X</td>\n",
       "    </tr>\n",
       "    <tr>\n",
       "      <th>3</th>\n",
       "      <td>Albania</td>\n",
       "      <td>1987</td>\n",
       "      <td>male</td>\n",
       "      <td>75+ years</td>\n",
       "      <td>1</td>\n",
       "      <td>21800</td>\n",
       "      <td>4.59</td>\n",
       "      <td>Albania1987</td>\n",
       "      <td>NaN</td>\n",
       "      <td>2,156,624,900</td>\n",
       "      <td>796</td>\n",
       "      <td>G.I. Generation</td>\n",
       "    </tr>\n",
       "    <tr>\n",
       "      <th>4</th>\n",
       "      <td>Albania</td>\n",
       "      <td>1987</td>\n",
       "      <td>male</td>\n",
       "      <td>25-34 years</td>\n",
       "      <td>9</td>\n",
       "      <td>274300</td>\n",
       "      <td>3.28</td>\n",
       "      <td>Albania1987</td>\n",
       "      <td>NaN</td>\n",
       "      <td>2,156,624,900</td>\n",
       "      <td>796</td>\n",
       "      <td>Boomers</td>\n",
       "    </tr>\n",
       "    <tr>\n",
       "      <th>...</th>\n",
       "      <td>...</td>\n",
       "      <td>...</td>\n",
       "      <td>...</td>\n",
       "      <td>...</td>\n",
       "      <td>...</td>\n",
       "      <td>...</td>\n",
       "      <td>...</td>\n",
       "      <td>...</td>\n",
       "      <td>...</td>\n",
       "      <td>...</td>\n",
       "      <td>...</td>\n",
       "      <td>...</td>\n",
       "    </tr>\n",
       "    <tr>\n",
       "      <th>27815</th>\n",
       "      <td>Uzbekistan</td>\n",
       "      <td>2014</td>\n",
       "      <td>female</td>\n",
       "      <td>35-54 years</td>\n",
       "      <td>107</td>\n",
       "      <td>3620833</td>\n",
       "      <td>2.96</td>\n",
       "      <td>Uzbekistan2014</td>\n",
       "      <td>0.675</td>\n",
       "      <td>63,067,077,179</td>\n",
       "      <td>2309</td>\n",
       "      <td>Generation X</td>\n",
       "    </tr>\n",
       "    <tr>\n",
       "      <th>27816</th>\n",
       "      <td>Uzbekistan</td>\n",
       "      <td>2014</td>\n",
       "      <td>female</td>\n",
       "      <td>75+ years</td>\n",
       "      <td>9</td>\n",
       "      <td>348465</td>\n",
       "      <td>2.58</td>\n",
       "      <td>Uzbekistan2014</td>\n",
       "      <td>0.675</td>\n",
       "      <td>63,067,077,179</td>\n",
       "      <td>2309</td>\n",
       "      <td>Silent</td>\n",
       "    </tr>\n",
       "    <tr>\n",
       "      <th>27817</th>\n",
       "      <td>Uzbekistan</td>\n",
       "      <td>2014</td>\n",
       "      <td>male</td>\n",
       "      <td>5-14 years</td>\n",
       "      <td>60</td>\n",
       "      <td>2762158</td>\n",
       "      <td>2.17</td>\n",
       "      <td>Uzbekistan2014</td>\n",
       "      <td>0.675</td>\n",
       "      <td>63,067,077,179</td>\n",
       "      <td>2309</td>\n",
       "      <td>Generation Z</td>\n",
       "    </tr>\n",
       "    <tr>\n",
       "      <th>27818</th>\n",
       "      <td>Uzbekistan</td>\n",
       "      <td>2014</td>\n",
       "      <td>female</td>\n",
       "      <td>5-14 years</td>\n",
       "      <td>44</td>\n",
       "      <td>2631600</td>\n",
       "      <td>1.67</td>\n",
       "      <td>Uzbekistan2014</td>\n",
       "      <td>0.675</td>\n",
       "      <td>63,067,077,179</td>\n",
       "      <td>2309</td>\n",
       "      <td>Generation Z</td>\n",
       "    </tr>\n",
       "    <tr>\n",
       "      <th>27819</th>\n",
       "      <td>Uzbekistan</td>\n",
       "      <td>2014</td>\n",
       "      <td>female</td>\n",
       "      <td>55-74 years</td>\n",
       "      <td>21</td>\n",
       "      <td>1438935</td>\n",
       "      <td>1.46</td>\n",
       "      <td>Uzbekistan2014</td>\n",
       "      <td>0.675</td>\n",
       "      <td>63,067,077,179</td>\n",
       "      <td>2309</td>\n",
       "      <td>Boomers</td>\n",
       "    </tr>\n",
       "  </tbody>\n",
       "</table>\n",
       "<p>27820 rows × 12 columns</p>\n",
       "</div>"
      ],
      "text/plain": [
       "          country  year     sex          age  suicides_no  population  \\\n",
       "0         Albania  1987    male  15-24 years           21      312900   \n",
       "1         Albania  1987    male  35-54 years           16      308000   \n",
       "2         Albania  1987  female  15-24 years           14      289700   \n",
       "3         Albania  1987    male    75+ years            1       21800   \n",
       "4         Albania  1987    male  25-34 years            9      274300   \n",
       "...           ...   ...     ...          ...          ...         ...   \n",
       "27815  Uzbekistan  2014  female  35-54 years          107     3620833   \n",
       "27816  Uzbekistan  2014  female    75+ years            9      348465   \n",
       "27817  Uzbekistan  2014    male   5-14 years           60     2762158   \n",
       "27818  Uzbekistan  2014  female   5-14 years           44     2631600   \n",
       "27819  Uzbekistan  2014  female  55-74 years           21     1438935   \n",
       "\n",
       "       suicides/100k pop    country-year  HDI for year  gdp_for_year ($)   \\\n",
       "0                   6.71     Albania1987           NaN      2,156,624,900   \n",
       "1                   5.19     Albania1987           NaN      2,156,624,900   \n",
       "2                   4.83     Albania1987           NaN      2,156,624,900   \n",
       "3                   4.59     Albania1987           NaN      2,156,624,900   \n",
       "4                   3.28     Albania1987           NaN      2,156,624,900   \n",
       "...                  ...             ...           ...                ...   \n",
       "27815               2.96  Uzbekistan2014         0.675     63,067,077,179   \n",
       "27816               2.58  Uzbekistan2014         0.675     63,067,077,179   \n",
       "27817               2.17  Uzbekistan2014         0.675     63,067,077,179   \n",
       "27818               1.67  Uzbekistan2014         0.675     63,067,077,179   \n",
       "27819               1.46  Uzbekistan2014         0.675     63,067,077,179   \n",
       "\n",
       "       gdp_per_capita ($)       generation  \n",
       "0                     796     Generation X  \n",
       "1                     796           Silent  \n",
       "2                     796     Generation X  \n",
       "3                     796  G.I. Generation  \n",
       "4                     796          Boomers  \n",
       "...                   ...              ...  \n",
       "27815                2309     Generation X  \n",
       "27816                2309           Silent  \n",
       "27817                2309     Generation Z  \n",
       "27818                2309     Generation Z  \n",
       "27819                2309          Boomers  \n",
       "\n",
       "[27820 rows x 12 columns]"
      ]
     },
     "execution_count": 3,
     "metadata": {},
     "output_type": "execute_result"
    }
   ],
   "source": [
    "df=pd.read_csv('/kaggle/input/suicide-rates-overview-1985-to-2016/master.csv')\n",
    "df"
   ]
  },
  {
   "cell_type": "code",
   "execution_count": 4,
   "metadata": {
    "execution": {
     "iopub.execute_input": "2020-11-08T09:23:26.577802Z",
     "iopub.status.busy": "2020-11-08T09:23:26.576899Z",
     "iopub.status.idle": "2020-11-08T09:23:26.580842Z",
     "shell.execute_reply": "2020-11-08T09:23:26.580252Z"
    },
    "papermill": {
     "duration": 0.042535,
     "end_time": "2020-11-08T09:23:26.580956",
     "exception": false,
     "start_time": "2020-11-08T09:23:26.538421",
     "status": "completed"
    },
    "tags": []
   },
   "outputs": [
    {
     "name": "stdout",
     "output_type": "stream",
     "text": [
      "shape of the dataframe is : (27820, 12)\n"
     ]
    }
   ],
   "source": [
    "print('shape of the dataframe is :',df.shape)"
   ]
  },
  {
   "cell_type": "markdown",
   "metadata": {
    "papermill": {
     "duration": 0.032936,
     "end_time": "2020-11-08T09:23:26.647756",
     "exception": false,
     "start_time": "2020-11-08T09:23:26.614820",
     "status": "completed"
    },
    "tags": []
   },
   "source": [
    "Data is large in size and can be predicted through Regression"
   ]
  },
  {
   "cell_type": "code",
   "execution_count": 5,
   "metadata": {
    "execution": {
     "iopub.execute_input": "2020-11-08T09:23:26.722046Z",
     "iopub.status.busy": "2020-11-08T09:23:26.721039Z",
     "iopub.status.idle": "2020-11-08T09:23:26.725644Z",
     "shell.execute_reply": "2020-11-08T09:23:26.724670Z"
    },
    "papermill": {
     "duration": 0.044684,
     "end_time": "2020-11-08T09:23:26.725765",
     "exception": false,
     "start_time": "2020-11-08T09:23:26.681081",
     "status": "completed"
    },
    "tags": []
   },
   "outputs": [
    {
     "name": "stdout",
     "output_type": "stream",
     "text": [
      "country, year, sex, age, suicides_no, population, suicides/100k pop, country-year, HDI for year,  gdp_for_year ($) , gdp_per_capita ($), generation, "
     ]
    }
   ],
   "source": [
    "for i in df.columns:\n",
    "    print(i,end=\", \")"
   ]
  },
  {
   "cell_type": "markdown",
   "metadata": {
    "papermill": {
     "duration": 0.03604,
     "end_time": "2020-11-08T09:23:26.796125",
     "exception": false,
     "start_time": "2020-11-08T09:23:26.760085",
     "status": "completed"
    },
    "tags": []
   },
   "source": [
    "# Pre-processing"
   ]
  },
  {
   "cell_type": "markdown",
   "metadata": {
    "papermill": {
     "duration": 0.033598,
     "end_time": "2020-11-08T09:23:26.864894",
     "exception": false,
     "start_time": "2020-11-08T09:23:26.831296",
     "status": "completed"
    },
    "tags": []
   },
   "source": [
    "* Leakage checking (if any)\n",
    "* Leakage filling (if any)\n",
    "* Unnecessary column or row deletion (if any)"
   ]
  },
  {
   "cell_type": "code",
   "execution_count": 6,
   "metadata": {
    "execution": {
     "iopub.execute_input": "2020-11-08T09:23:26.961201Z",
     "iopub.status.busy": "2020-11-08T09:23:26.960369Z",
     "iopub.status.idle": "2020-11-08T09:23:26.995964Z",
     "shell.execute_reply": "2020-11-08T09:23:26.996700Z"
    },
    "papermill": {
     "duration": 0.097607,
     "end_time": "2020-11-08T09:23:26.996848",
     "exception": false,
     "start_time": "2020-11-08T09:23:26.899241",
     "status": "completed"
    },
    "tags": []
   },
   "outputs": [
    {
     "name": "stdout",
     "output_type": "stream",
     "text": [
      "leakage in country is : 0\n",
      "leakage in year is : 0\n",
      "leakage in sex is : 0\n",
      "leakage in age is : 0\n",
      "leakage in suicides_no is : 0\n",
      "leakage in population is : 0\n",
      "leakage in suicides/100k pop is : 0\n",
      "leakage in country-year is : 0\n",
      "leakage in HDI for year is : 19456\n",
      "leakage in  gdp_for_year ($)  is : 0\n",
      "leakage in gdp_per_capita ($) is : 0\n",
      "leakage in generation is : 0\n"
     ]
    }
   ],
   "source": [
    "# leakage checking\n",
    "\n",
    "lk_dat=df.isnull()\n",
    "for col in df.columns:\n",
    "    print('leakage in '+col+' is :',len(lk_dat[lk_dat[col]==True]))"
   ]
  },
  {
   "cell_type": "markdown",
   "metadata": {
    "papermill": {
     "duration": 0.041117,
     "end_time": "2020-11-08T09:23:27.075573",
     "exception": false,
     "start_time": "2020-11-08T09:23:27.034456",
     "status": "completed"
    },
    "tags": []
   },
   "source": [
    "The HDI column hold (19456 / 27820) * 100 = 69.9352 % of leakage in a single column."
   ]
  },
  {
   "cell_type": "markdown",
   "metadata": {
    "papermill": {
     "duration": 0.03499,
     "end_time": "2020-11-08T09:23:27.154613",
     "exception": false,
     "start_time": "2020-11-08T09:23:27.119623",
     "status": "completed"
    },
    "tags": []
   },
   "source": [
    "So we are going to take a dummy datset and the this from there and predcit both and see which have more accuracy. Before doing pipeline we'll create that dummy dataframe "
   ]
  },
  {
   "cell_type": "code",
   "execution_count": 7,
   "metadata": {
    "execution": {
     "iopub.execute_input": "2020-11-08T09:23:27.240159Z",
     "iopub.status.busy": "2020-11-08T09:23:27.239407Z",
     "iopub.status.idle": "2020-11-08T09:23:27.291276Z",
     "shell.execute_reply": "2020-11-08T09:23:27.290688Z"
    },
    "papermill": {
     "duration": 0.094354,
     "end_time": "2020-11-08T09:23:27.291404",
     "exception": false,
     "start_time": "2020-11-08T09:23:27.197050",
     "status": "completed"
    },
    "tags": []
   },
   "outputs": [
    {
     "data": {
      "text/html": [
       "<div>\n",
       "<style scoped>\n",
       "    .dataframe tbody tr th:only-of-type {\n",
       "        vertical-align: middle;\n",
       "    }\n",
       "\n",
       "    .dataframe tbody tr th {\n",
       "        vertical-align: top;\n",
       "    }\n",
       "\n",
       "    .dataframe thead th {\n",
       "        text-align: right;\n",
       "    }\n",
       "</style>\n",
       "<table border=\"1\" class=\"dataframe\">\n",
       "  <thead>\n",
       "    <tr style=\"text-align: right;\">\n",
       "      <th></th>\n",
       "      <th>country</th>\n",
       "      <th>year</th>\n",
       "      <th>sex</th>\n",
       "      <th>age</th>\n",
       "      <th>suicides_no</th>\n",
       "      <th>population</th>\n",
       "      <th>suicides/100k pop</th>\n",
       "      <th>country-year</th>\n",
       "      <th>HDI for year</th>\n",
       "      <th>gdp_for_year ($)</th>\n",
       "      <th>gdp_per_capita ($)</th>\n",
       "      <th>generation</th>\n",
       "    </tr>\n",
       "  </thead>\n",
       "  <tbody>\n",
       "    <tr>\n",
       "      <th>0</th>\n",
       "      <td>Albania</td>\n",
       "      <td>1987</td>\n",
       "      <td>male</td>\n",
       "      <td>15-24 years</td>\n",
       "      <td>21</td>\n",
       "      <td>312900</td>\n",
       "      <td>6.71</td>\n",
       "      <td>Albania1987</td>\n",
       "      <td>-99999.000</td>\n",
       "      <td>2,156,624,900</td>\n",
       "      <td>796</td>\n",
       "      <td>Generation X</td>\n",
       "    </tr>\n",
       "    <tr>\n",
       "      <th>1</th>\n",
       "      <td>Albania</td>\n",
       "      <td>1987</td>\n",
       "      <td>male</td>\n",
       "      <td>35-54 years</td>\n",
       "      <td>16</td>\n",
       "      <td>308000</td>\n",
       "      <td>5.19</td>\n",
       "      <td>Albania1987</td>\n",
       "      <td>-99999.000</td>\n",
       "      <td>2,156,624,900</td>\n",
       "      <td>796</td>\n",
       "      <td>Silent</td>\n",
       "    </tr>\n",
       "    <tr>\n",
       "      <th>2</th>\n",
       "      <td>Albania</td>\n",
       "      <td>1987</td>\n",
       "      <td>female</td>\n",
       "      <td>15-24 years</td>\n",
       "      <td>14</td>\n",
       "      <td>289700</td>\n",
       "      <td>4.83</td>\n",
       "      <td>Albania1987</td>\n",
       "      <td>-99999.000</td>\n",
       "      <td>2,156,624,900</td>\n",
       "      <td>796</td>\n",
       "      <td>Generation X</td>\n",
       "    </tr>\n",
       "    <tr>\n",
       "      <th>3</th>\n",
       "      <td>Albania</td>\n",
       "      <td>1987</td>\n",
       "      <td>male</td>\n",
       "      <td>75+ years</td>\n",
       "      <td>1</td>\n",
       "      <td>21800</td>\n",
       "      <td>4.59</td>\n",
       "      <td>Albania1987</td>\n",
       "      <td>-99999.000</td>\n",
       "      <td>2,156,624,900</td>\n",
       "      <td>796</td>\n",
       "      <td>G.I. Generation</td>\n",
       "    </tr>\n",
       "    <tr>\n",
       "      <th>4</th>\n",
       "      <td>Albania</td>\n",
       "      <td>1987</td>\n",
       "      <td>male</td>\n",
       "      <td>25-34 years</td>\n",
       "      <td>9</td>\n",
       "      <td>274300</td>\n",
       "      <td>3.28</td>\n",
       "      <td>Albania1987</td>\n",
       "      <td>-99999.000</td>\n",
       "      <td>2,156,624,900</td>\n",
       "      <td>796</td>\n",
       "      <td>Boomers</td>\n",
       "    </tr>\n",
       "    <tr>\n",
       "      <th>...</th>\n",
       "      <td>...</td>\n",
       "      <td>...</td>\n",
       "      <td>...</td>\n",
       "      <td>...</td>\n",
       "      <td>...</td>\n",
       "      <td>...</td>\n",
       "      <td>...</td>\n",
       "      <td>...</td>\n",
       "      <td>...</td>\n",
       "      <td>...</td>\n",
       "      <td>...</td>\n",
       "      <td>...</td>\n",
       "    </tr>\n",
       "    <tr>\n",
       "      <th>27815</th>\n",
       "      <td>Uzbekistan</td>\n",
       "      <td>2014</td>\n",
       "      <td>female</td>\n",
       "      <td>35-54 years</td>\n",
       "      <td>107</td>\n",
       "      <td>3620833</td>\n",
       "      <td>2.96</td>\n",
       "      <td>Uzbekistan2014</td>\n",
       "      <td>0.675</td>\n",
       "      <td>63,067,077,179</td>\n",
       "      <td>2309</td>\n",
       "      <td>Generation X</td>\n",
       "    </tr>\n",
       "    <tr>\n",
       "      <th>27816</th>\n",
       "      <td>Uzbekistan</td>\n",
       "      <td>2014</td>\n",
       "      <td>female</td>\n",
       "      <td>75+ years</td>\n",
       "      <td>9</td>\n",
       "      <td>348465</td>\n",
       "      <td>2.58</td>\n",
       "      <td>Uzbekistan2014</td>\n",
       "      <td>0.675</td>\n",
       "      <td>63,067,077,179</td>\n",
       "      <td>2309</td>\n",
       "      <td>Silent</td>\n",
       "    </tr>\n",
       "    <tr>\n",
       "      <th>27817</th>\n",
       "      <td>Uzbekistan</td>\n",
       "      <td>2014</td>\n",
       "      <td>male</td>\n",
       "      <td>5-14 years</td>\n",
       "      <td>60</td>\n",
       "      <td>2762158</td>\n",
       "      <td>2.17</td>\n",
       "      <td>Uzbekistan2014</td>\n",
       "      <td>0.675</td>\n",
       "      <td>63,067,077,179</td>\n",
       "      <td>2309</td>\n",
       "      <td>Generation Z</td>\n",
       "    </tr>\n",
       "    <tr>\n",
       "      <th>27818</th>\n",
       "      <td>Uzbekistan</td>\n",
       "      <td>2014</td>\n",
       "      <td>female</td>\n",
       "      <td>5-14 years</td>\n",
       "      <td>44</td>\n",
       "      <td>2631600</td>\n",
       "      <td>1.67</td>\n",
       "      <td>Uzbekistan2014</td>\n",
       "      <td>0.675</td>\n",
       "      <td>63,067,077,179</td>\n",
       "      <td>2309</td>\n",
       "      <td>Generation Z</td>\n",
       "    </tr>\n",
       "    <tr>\n",
       "      <th>27819</th>\n",
       "      <td>Uzbekistan</td>\n",
       "      <td>2014</td>\n",
       "      <td>female</td>\n",
       "      <td>55-74 years</td>\n",
       "      <td>21</td>\n",
       "      <td>1438935</td>\n",
       "      <td>1.46</td>\n",
       "      <td>Uzbekistan2014</td>\n",
       "      <td>0.675</td>\n",
       "      <td>63,067,077,179</td>\n",
       "      <td>2309</td>\n",
       "      <td>Boomers</td>\n",
       "    </tr>\n",
       "  </tbody>\n",
       "</table>\n",
       "<p>27820 rows × 12 columns</p>\n",
       "</div>"
      ],
      "text/plain": [
       "          country  year     sex          age  suicides_no  population  \\\n",
       "0         Albania  1987    male  15-24 years           21      312900   \n",
       "1         Albania  1987    male  35-54 years           16      308000   \n",
       "2         Albania  1987  female  15-24 years           14      289700   \n",
       "3         Albania  1987    male    75+ years            1       21800   \n",
       "4         Albania  1987    male  25-34 years            9      274300   \n",
       "...           ...   ...     ...          ...          ...         ...   \n",
       "27815  Uzbekistan  2014  female  35-54 years          107     3620833   \n",
       "27816  Uzbekistan  2014  female    75+ years            9      348465   \n",
       "27817  Uzbekistan  2014    male   5-14 years           60     2762158   \n",
       "27818  Uzbekistan  2014  female   5-14 years           44     2631600   \n",
       "27819  Uzbekistan  2014  female  55-74 years           21     1438935   \n",
       "\n",
       "       suicides/100k pop    country-year  HDI for year  gdp_for_year ($)   \\\n",
       "0                   6.71     Albania1987    -99999.000      2,156,624,900   \n",
       "1                   5.19     Albania1987    -99999.000      2,156,624,900   \n",
       "2                   4.83     Albania1987    -99999.000      2,156,624,900   \n",
       "3                   4.59     Albania1987    -99999.000      2,156,624,900   \n",
       "4                   3.28     Albania1987    -99999.000      2,156,624,900   \n",
       "...                  ...             ...           ...                ...   \n",
       "27815               2.96  Uzbekistan2014         0.675     63,067,077,179   \n",
       "27816               2.58  Uzbekistan2014         0.675     63,067,077,179   \n",
       "27817               2.17  Uzbekistan2014         0.675     63,067,077,179   \n",
       "27818               1.67  Uzbekistan2014         0.675     63,067,077,179   \n",
       "27819               1.46  Uzbekistan2014         0.675     63,067,077,179   \n",
       "\n",
       "       gdp_per_capita ($)       generation  \n",
       "0                     796     Generation X  \n",
       "1                     796           Silent  \n",
       "2                     796     Generation X  \n",
       "3                     796  G.I. Generation  \n",
       "4                     796          Boomers  \n",
       "...                   ...              ...  \n",
       "27815                2309     Generation X  \n",
       "27816                2309           Silent  \n",
       "27817                2309     Generation Z  \n",
       "27818                2309     Generation Z  \n",
       "27819                2309          Boomers  \n",
       "\n",
       "[27820 rows x 12 columns]"
      ]
     },
     "execution_count": 7,
     "metadata": {},
     "output_type": "execute_result"
    }
   ],
   "source": [
    "# filling the leakage\n",
    "\n",
    "df.replace(np.NaN,-99999.0,inplace=True)\n",
    "df"
   ]
  },
  {
   "cell_type": "markdown",
   "metadata": {
    "papermill": {
     "duration": 0.035245,
     "end_time": "2020-11-08T09:23:27.362455",
     "exception": false,
     "start_time": "2020-11-08T09:23:27.327210",
     "status": "completed"
    },
    "tags": []
   },
   "source": [
    "# Feature Engineering"
   ]
  },
  {
   "cell_type": "markdown",
   "metadata": {
    "papermill": {
     "duration": 0.038351,
     "end_time": "2020-11-08T09:23:27.435916",
     "exception": false,
     "start_time": "2020-11-08T09:23:27.397565",
     "status": "completed"
    },
    "tags": []
   },
   "source": [
    "The country-year column looks unnecessary as the data is also present in 2 other columns. we are drpoping it."
   ]
  },
  {
   "cell_type": "code",
   "execution_count": 8,
   "metadata": {
    "execution": {
     "iopub.execute_input": "2020-11-08T09:23:27.512815Z",
     "iopub.status.busy": "2020-11-08T09:23:27.512058Z",
     "iopub.status.idle": "2020-11-08T09:23:27.546024Z",
     "shell.execute_reply": "2020-11-08T09:23:27.545344Z"
    },
    "papermill": {
     "duration": 0.074907,
     "end_time": "2020-11-08T09:23:27.546165",
     "exception": false,
     "start_time": "2020-11-08T09:23:27.471258",
     "status": "completed"
    },
    "tags": []
   },
   "outputs": [
    {
     "data": {
      "text/html": [
       "<div>\n",
       "<style scoped>\n",
       "    .dataframe tbody tr th:only-of-type {\n",
       "        vertical-align: middle;\n",
       "    }\n",
       "\n",
       "    .dataframe tbody tr th {\n",
       "        vertical-align: top;\n",
       "    }\n",
       "\n",
       "    .dataframe thead th {\n",
       "        text-align: right;\n",
       "    }\n",
       "</style>\n",
       "<table border=\"1\" class=\"dataframe\">\n",
       "  <thead>\n",
       "    <tr style=\"text-align: right;\">\n",
       "      <th></th>\n",
       "      <th>country</th>\n",
       "      <th>year</th>\n",
       "      <th>sex</th>\n",
       "      <th>age</th>\n",
       "      <th>suicides_no</th>\n",
       "      <th>population</th>\n",
       "      <th>suicides/100k pop</th>\n",
       "      <th>HDI for year</th>\n",
       "      <th>gdp_for_year ($)</th>\n",
       "      <th>gdp_per_capita ($)</th>\n",
       "      <th>generation</th>\n",
       "    </tr>\n",
       "  </thead>\n",
       "  <tbody>\n",
       "    <tr>\n",
       "      <th>0</th>\n",
       "      <td>Albania</td>\n",
       "      <td>1987</td>\n",
       "      <td>male</td>\n",
       "      <td>15-24 years</td>\n",
       "      <td>21</td>\n",
       "      <td>312900</td>\n",
       "      <td>6.71</td>\n",
       "      <td>-99999.000</td>\n",
       "      <td>2,156,624,900</td>\n",
       "      <td>796</td>\n",
       "      <td>Generation X</td>\n",
       "    </tr>\n",
       "    <tr>\n",
       "      <th>1</th>\n",
       "      <td>Albania</td>\n",
       "      <td>1987</td>\n",
       "      <td>male</td>\n",
       "      <td>35-54 years</td>\n",
       "      <td>16</td>\n",
       "      <td>308000</td>\n",
       "      <td>5.19</td>\n",
       "      <td>-99999.000</td>\n",
       "      <td>2,156,624,900</td>\n",
       "      <td>796</td>\n",
       "      <td>Silent</td>\n",
       "    </tr>\n",
       "    <tr>\n",
       "      <th>2</th>\n",
       "      <td>Albania</td>\n",
       "      <td>1987</td>\n",
       "      <td>female</td>\n",
       "      <td>15-24 years</td>\n",
       "      <td>14</td>\n",
       "      <td>289700</td>\n",
       "      <td>4.83</td>\n",
       "      <td>-99999.000</td>\n",
       "      <td>2,156,624,900</td>\n",
       "      <td>796</td>\n",
       "      <td>Generation X</td>\n",
       "    </tr>\n",
       "    <tr>\n",
       "      <th>3</th>\n",
       "      <td>Albania</td>\n",
       "      <td>1987</td>\n",
       "      <td>male</td>\n",
       "      <td>75+ years</td>\n",
       "      <td>1</td>\n",
       "      <td>21800</td>\n",
       "      <td>4.59</td>\n",
       "      <td>-99999.000</td>\n",
       "      <td>2,156,624,900</td>\n",
       "      <td>796</td>\n",
       "      <td>G.I. Generation</td>\n",
       "    </tr>\n",
       "    <tr>\n",
       "      <th>4</th>\n",
       "      <td>Albania</td>\n",
       "      <td>1987</td>\n",
       "      <td>male</td>\n",
       "      <td>25-34 years</td>\n",
       "      <td>9</td>\n",
       "      <td>274300</td>\n",
       "      <td>3.28</td>\n",
       "      <td>-99999.000</td>\n",
       "      <td>2,156,624,900</td>\n",
       "      <td>796</td>\n",
       "      <td>Boomers</td>\n",
       "    </tr>\n",
       "    <tr>\n",
       "      <th>...</th>\n",
       "      <td>...</td>\n",
       "      <td>...</td>\n",
       "      <td>...</td>\n",
       "      <td>...</td>\n",
       "      <td>...</td>\n",
       "      <td>...</td>\n",
       "      <td>...</td>\n",
       "      <td>...</td>\n",
       "      <td>...</td>\n",
       "      <td>...</td>\n",
       "      <td>...</td>\n",
       "    </tr>\n",
       "    <tr>\n",
       "      <th>27815</th>\n",
       "      <td>Uzbekistan</td>\n",
       "      <td>2014</td>\n",
       "      <td>female</td>\n",
       "      <td>35-54 years</td>\n",
       "      <td>107</td>\n",
       "      <td>3620833</td>\n",
       "      <td>2.96</td>\n",
       "      <td>0.675</td>\n",
       "      <td>63,067,077,179</td>\n",
       "      <td>2309</td>\n",
       "      <td>Generation X</td>\n",
       "    </tr>\n",
       "    <tr>\n",
       "      <th>27816</th>\n",
       "      <td>Uzbekistan</td>\n",
       "      <td>2014</td>\n",
       "      <td>female</td>\n",
       "      <td>75+ years</td>\n",
       "      <td>9</td>\n",
       "      <td>348465</td>\n",
       "      <td>2.58</td>\n",
       "      <td>0.675</td>\n",
       "      <td>63,067,077,179</td>\n",
       "      <td>2309</td>\n",
       "      <td>Silent</td>\n",
       "    </tr>\n",
       "    <tr>\n",
       "      <th>27817</th>\n",
       "      <td>Uzbekistan</td>\n",
       "      <td>2014</td>\n",
       "      <td>male</td>\n",
       "      <td>5-14 years</td>\n",
       "      <td>60</td>\n",
       "      <td>2762158</td>\n",
       "      <td>2.17</td>\n",
       "      <td>0.675</td>\n",
       "      <td>63,067,077,179</td>\n",
       "      <td>2309</td>\n",
       "      <td>Generation Z</td>\n",
       "    </tr>\n",
       "    <tr>\n",
       "      <th>27818</th>\n",
       "      <td>Uzbekistan</td>\n",
       "      <td>2014</td>\n",
       "      <td>female</td>\n",
       "      <td>5-14 years</td>\n",
       "      <td>44</td>\n",
       "      <td>2631600</td>\n",
       "      <td>1.67</td>\n",
       "      <td>0.675</td>\n",
       "      <td>63,067,077,179</td>\n",
       "      <td>2309</td>\n",
       "      <td>Generation Z</td>\n",
       "    </tr>\n",
       "    <tr>\n",
       "      <th>27819</th>\n",
       "      <td>Uzbekistan</td>\n",
       "      <td>2014</td>\n",
       "      <td>female</td>\n",
       "      <td>55-74 years</td>\n",
       "      <td>21</td>\n",
       "      <td>1438935</td>\n",
       "      <td>1.46</td>\n",
       "      <td>0.675</td>\n",
       "      <td>63,067,077,179</td>\n",
       "      <td>2309</td>\n",
       "      <td>Boomers</td>\n",
       "    </tr>\n",
       "  </tbody>\n",
       "</table>\n",
       "<p>27820 rows × 11 columns</p>\n",
       "</div>"
      ],
      "text/plain": [
       "          country  year     sex          age  suicides_no  population  \\\n",
       "0         Albania  1987    male  15-24 years           21      312900   \n",
       "1         Albania  1987    male  35-54 years           16      308000   \n",
       "2         Albania  1987  female  15-24 years           14      289700   \n",
       "3         Albania  1987    male    75+ years            1       21800   \n",
       "4         Albania  1987    male  25-34 years            9      274300   \n",
       "...           ...   ...     ...          ...          ...         ...   \n",
       "27815  Uzbekistan  2014  female  35-54 years          107     3620833   \n",
       "27816  Uzbekistan  2014  female    75+ years            9      348465   \n",
       "27817  Uzbekistan  2014    male   5-14 years           60     2762158   \n",
       "27818  Uzbekistan  2014  female   5-14 years           44     2631600   \n",
       "27819  Uzbekistan  2014  female  55-74 years           21     1438935   \n",
       "\n",
       "       suicides/100k pop  HDI for year  gdp_for_year ($)   gdp_per_capita ($)  \\\n",
       "0                   6.71    -99999.000      2,156,624,900                 796   \n",
       "1                   5.19    -99999.000      2,156,624,900                 796   \n",
       "2                   4.83    -99999.000      2,156,624,900                 796   \n",
       "3                   4.59    -99999.000      2,156,624,900                 796   \n",
       "4                   3.28    -99999.000      2,156,624,900                 796   \n",
       "...                  ...           ...                ...                 ...   \n",
       "27815               2.96         0.675     63,067,077,179                2309   \n",
       "27816               2.58         0.675     63,067,077,179                2309   \n",
       "27817               2.17         0.675     63,067,077,179                2309   \n",
       "27818               1.67         0.675     63,067,077,179                2309   \n",
       "27819               1.46         0.675     63,067,077,179                2309   \n",
       "\n",
       "            generation  \n",
       "0         Generation X  \n",
       "1               Silent  \n",
       "2         Generation X  \n",
       "3      G.I. Generation  \n",
       "4              Boomers  \n",
       "...                ...  \n",
       "27815     Generation X  \n",
       "27816           Silent  \n",
       "27817     Generation Z  \n",
       "27818     Generation Z  \n",
       "27819          Boomers  \n",
       "\n",
       "[27820 rows x 11 columns]"
      ]
     },
     "execution_count": 8,
     "metadata": {},
     "output_type": "execute_result"
    }
   ],
   "source": [
    "df.drop('country-year',1,inplace=True)\n",
    "df"
   ]
  },
  {
   "cell_type": "markdown",
   "metadata": {
    "papermill": {
     "duration": 0.03657,
     "end_time": "2020-11-08T09:23:27.619595",
     "exception": false,
     "start_time": "2020-11-08T09:23:27.583025",
     "status": "completed"
    },
    "tags": []
   },
   "source": [
    "The age column is a categorical data .\n"
   ]
  },
  {
   "cell_type": "code",
   "execution_count": 9,
   "metadata": {
    "execution": {
     "iopub.execute_input": "2020-11-08T09:23:27.721677Z",
     "iopub.status.busy": "2020-11-08T09:23:27.720852Z",
     "iopub.status.idle": "2020-11-08T09:23:27.725072Z",
     "shell.execute_reply": "2020-11-08T09:23:27.724465Z"
    },
    "papermill": {
     "duration": 0.068562,
     "end_time": "2020-11-08T09:23:27.725210",
     "exception": false,
     "start_time": "2020-11-08T09:23:27.656648",
     "status": "completed"
    },
    "tags": []
   },
   "outputs": [
    {
     "data": {
      "text/plain": [
       "25-34 years    4642\n",
       "15-24 years    4642\n",
       "35-54 years    4642\n",
       "75+ years      4642\n",
       "55-74 years    4642\n",
       "5-14 years     4610\n",
       "Name: age, dtype: int64"
      ]
     },
     "execution_count": 9,
     "metadata": {},
     "output_type": "execute_result"
    }
   ],
   "source": [
    "age=[]\n",
    "for i in df['age']:\n",
    "    age.append(i[:-6])\n",
    "df['age'].value_counts()"
   ]
  },
  {
   "cell_type": "markdown",
   "metadata": {
    "papermill": {
     "duration": 0.037591,
     "end_time": "2020-11-08T09:23:27.799775",
     "exception": false,
     "start_time": "2020-11-08T09:23:27.762184",
     "status": "completed"
    },
    "tags": []
   },
   "source": [
    "It is visible it has 6 different types."
   ]
  },
  {
   "cell_type": "code",
   "execution_count": 10,
   "metadata": {
    "execution": {
     "iopub.execute_input": "2020-11-08T09:23:27.880230Z",
     "iopub.status.busy": "2020-11-08T09:23:27.879486Z",
     "iopub.status.idle": "2020-11-08T09:23:27.882166Z",
     "shell.execute_reply": "2020-11-08T09:23:27.881570Z"
    },
    "papermill": {
     "duration": 0.045297,
     "end_time": "2020-11-08T09:23:27.882281",
     "exception": false,
     "start_time": "2020-11-08T09:23:27.836984",
     "status": "completed"
    },
    "tags": []
   },
   "outputs": [],
   "source": [
    "age=['5-14 years','15-24 years','25-34 years','35-54 years','55-74 years','75+ years']"
   ]
  },
  {
   "cell_type": "code",
   "execution_count": 11,
   "metadata": {
    "execution": {
     "iopub.execute_input": "2020-11-08T09:23:27.991805Z",
     "iopub.status.busy": "2020-11-08T09:23:27.988305Z",
     "iopub.status.idle": "2020-11-08T09:23:27.996764Z",
     "shell.execute_reply": "2020-11-08T09:23:27.996193Z"
    },
    "papermill": {
     "duration": 0.077202,
     "end_time": "2020-11-08T09:23:27.996884",
     "exception": false,
     "start_time": "2020-11-08T09:23:27.919682",
     "status": "completed"
    },
    "tags": []
   },
   "outputs": [
    {
     "data": {
      "text/plain": [
       "0        1\n",
       "1        3\n",
       "2        1\n",
       "3        5\n",
       "4        2\n",
       "        ..\n",
       "27815    3\n",
       "27816    5\n",
       "27817    0\n",
       "27818    0\n",
       "27819    4\n",
       "Name: age, Length: 27820, dtype: int64"
      ]
     },
     "execution_count": 11,
     "metadata": {},
     "output_type": "execute_result"
    }
   ],
   "source": [
    "k=0\n",
    "for i in age:\n",
    "    df['age'].replace(i,k,inplace=True)\n",
    "    k+=1\n",
    "df['age']"
   ]
  },
  {
   "cell_type": "markdown",
   "metadata": {
    "papermill": {
     "duration": 0.038477,
     "end_time": "2020-11-08T09:23:28.073305",
     "exception": false,
     "start_time": "2020-11-08T09:23:28.034828",
     "status": "completed"
    },
    "tags": []
   },
   "source": [
    "Encoding other columns too"
   ]
  },
  {
   "cell_type": "code",
   "execution_count": 12,
   "metadata": {
    "execution": {
     "iopub.execute_input": "2020-11-08T09:23:28.158918Z",
     "iopub.status.busy": "2020-11-08T09:23:28.157468Z",
     "iopub.status.idle": "2020-11-08T09:23:28.162005Z",
     "shell.execute_reply": "2020-11-08T09:23:28.161424Z"
    },
    "papermill": {
     "duration": 0.050933,
     "end_time": "2020-11-08T09:23:28.162116",
     "exception": false,
     "start_time": "2020-11-08T09:23:28.111183",
     "status": "completed"
    },
    "tags": []
   },
   "outputs": [],
   "source": [
    "#  function to turn categorical data into numerical data\n",
    "\n",
    "def non_num_data(df):\n",
    "    columns=df.columns.values\n",
    "    \n",
    "    for column in columns:\n",
    "        text_digit_vals={}\n",
    "        def con_to_int(val):\n",
    "            return text_digit_vals[val]\n",
    "        \n",
    "        if df[column].dtype!=np.int64 and df[column].dtype!=np.float64:\n",
    "            column_contents=df[column].values.tolist()\n",
    "            unique_elements=set(column_contents)\n",
    "            x=0\n",
    "            for unique in unique_elements:\n",
    "                if unique not in text_digit_vals:\n",
    "                    text_digit_vals[unique]=x\n",
    "                    x+=1\n",
    "            df[column]=list(map(con_to_int,df[column]))\n",
    "    return df"
   ]
  },
  {
   "cell_type": "code",
   "execution_count": 13,
   "metadata": {
    "execution": {
     "iopub.execute_input": "2020-11-08T09:23:28.289748Z",
     "iopub.status.busy": "2020-11-08T09:23:28.265237Z",
     "iopub.status.idle": "2020-11-08T09:23:28.359364Z",
     "shell.execute_reply": "2020-11-08T09:23:28.359965Z"
    },
    "papermill": {
     "duration": 0.16012,
     "end_time": "2020-11-08T09:23:28.360119",
     "exception": false,
     "start_time": "2020-11-08T09:23:28.199999",
     "status": "completed"
    },
    "tags": []
   },
   "outputs": [
    {
     "data": {
      "text/html": [
       "<div>\n",
       "<style scoped>\n",
       "    .dataframe tbody tr th:only-of-type {\n",
       "        vertical-align: middle;\n",
       "    }\n",
       "\n",
       "    .dataframe tbody tr th {\n",
       "        vertical-align: top;\n",
       "    }\n",
       "\n",
       "    .dataframe thead th {\n",
       "        text-align: right;\n",
       "    }\n",
       "</style>\n",
       "<table border=\"1\" class=\"dataframe\">\n",
       "  <thead>\n",
       "    <tr style=\"text-align: right;\">\n",
       "      <th></th>\n",
       "      <th>country</th>\n",
       "      <th>year</th>\n",
       "      <th>sex</th>\n",
       "      <th>age</th>\n",
       "      <th>suicides_no</th>\n",
       "      <th>population</th>\n",
       "      <th>suicides/100k pop</th>\n",
       "      <th>HDI for year</th>\n",
       "      <th>gdp_for_year ($)</th>\n",
       "      <th>gdp_per_capita ($)</th>\n",
       "      <th>generation</th>\n",
       "    </tr>\n",
       "  </thead>\n",
       "  <tbody>\n",
       "    <tr>\n",
       "      <th>0</th>\n",
       "      <td>68</td>\n",
       "      <td>1987</td>\n",
       "      <td>1</td>\n",
       "      <td>1</td>\n",
       "      <td>21</td>\n",
       "      <td>312900</td>\n",
       "      <td>6.71</td>\n",
       "      <td>-99999.000</td>\n",
       "      <td>1786</td>\n",
       "      <td>796</td>\n",
       "      <td>4</td>\n",
       "    </tr>\n",
       "    <tr>\n",
       "      <th>1</th>\n",
       "      <td>68</td>\n",
       "      <td>1987</td>\n",
       "      <td>1</td>\n",
       "      <td>3</td>\n",
       "      <td>16</td>\n",
       "      <td>308000</td>\n",
       "      <td>5.19</td>\n",
       "      <td>-99999.000</td>\n",
       "      <td>1786</td>\n",
       "      <td>796</td>\n",
       "      <td>0</td>\n",
       "    </tr>\n",
       "    <tr>\n",
       "      <th>2</th>\n",
       "      <td>68</td>\n",
       "      <td>1987</td>\n",
       "      <td>0</td>\n",
       "      <td>1</td>\n",
       "      <td>14</td>\n",
       "      <td>289700</td>\n",
       "      <td>4.83</td>\n",
       "      <td>-99999.000</td>\n",
       "      <td>1786</td>\n",
       "      <td>796</td>\n",
       "      <td>4</td>\n",
       "    </tr>\n",
       "    <tr>\n",
       "      <th>3</th>\n",
       "      <td>68</td>\n",
       "      <td>1987</td>\n",
       "      <td>1</td>\n",
       "      <td>5</td>\n",
       "      <td>1</td>\n",
       "      <td>21800</td>\n",
       "      <td>4.59</td>\n",
       "      <td>-99999.000</td>\n",
       "      <td>1786</td>\n",
       "      <td>796</td>\n",
       "      <td>2</td>\n",
       "    </tr>\n",
       "    <tr>\n",
       "      <th>4</th>\n",
       "      <td>68</td>\n",
       "      <td>1987</td>\n",
       "      <td>1</td>\n",
       "      <td>2</td>\n",
       "      <td>9</td>\n",
       "      <td>274300</td>\n",
       "      <td>3.28</td>\n",
       "      <td>-99999.000</td>\n",
       "      <td>1786</td>\n",
       "      <td>796</td>\n",
       "      <td>5</td>\n",
       "    </tr>\n",
       "    <tr>\n",
       "      <th>...</th>\n",
       "      <td>...</td>\n",
       "      <td>...</td>\n",
       "      <td>...</td>\n",
       "      <td>...</td>\n",
       "      <td>...</td>\n",
       "      <td>...</td>\n",
       "      <td>...</td>\n",
       "      <td>...</td>\n",
       "      <td>...</td>\n",
       "      <td>...</td>\n",
       "      <td>...</td>\n",
       "    </tr>\n",
       "    <tr>\n",
       "      <th>27815</th>\n",
       "      <td>16</td>\n",
       "      <td>2014</td>\n",
       "      <td>0</td>\n",
       "      <td>3</td>\n",
       "      <td>107</td>\n",
       "      <td>3620833</td>\n",
       "      <td>2.96</td>\n",
       "      <td>0.675</td>\n",
       "      <td>1991</td>\n",
       "      <td>2309</td>\n",
       "      <td>4</td>\n",
       "    </tr>\n",
       "    <tr>\n",
       "      <th>27816</th>\n",
       "      <td>16</td>\n",
       "      <td>2014</td>\n",
       "      <td>0</td>\n",
       "      <td>5</td>\n",
       "      <td>9</td>\n",
       "      <td>348465</td>\n",
       "      <td>2.58</td>\n",
       "      <td>0.675</td>\n",
       "      <td>1991</td>\n",
       "      <td>2309</td>\n",
       "      <td>0</td>\n",
       "    </tr>\n",
       "    <tr>\n",
       "      <th>27817</th>\n",
       "      <td>16</td>\n",
       "      <td>2014</td>\n",
       "      <td>1</td>\n",
       "      <td>0</td>\n",
       "      <td>60</td>\n",
       "      <td>2762158</td>\n",
       "      <td>2.17</td>\n",
       "      <td>0.675</td>\n",
       "      <td>1991</td>\n",
       "      <td>2309</td>\n",
       "      <td>3</td>\n",
       "    </tr>\n",
       "    <tr>\n",
       "      <th>27818</th>\n",
       "      <td>16</td>\n",
       "      <td>2014</td>\n",
       "      <td>0</td>\n",
       "      <td>0</td>\n",
       "      <td>44</td>\n",
       "      <td>2631600</td>\n",
       "      <td>1.67</td>\n",
       "      <td>0.675</td>\n",
       "      <td>1991</td>\n",
       "      <td>2309</td>\n",
       "      <td>3</td>\n",
       "    </tr>\n",
       "    <tr>\n",
       "      <th>27819</th>\n",
       "      <td>16</td>\n",
       "      <td>2014</td>\n",
       "      <td>0</td>\n",
       "      <td>4</td>\n",
       "      <td>21</td>\n",
       "      <td>1438935</td>\n",
       "      <td>1.46</td>\n",
       "      <td>0.675</td>\n",
       "      <td>1991</td>\n",
       "      <td>2309</td>\n",
       "      <td>5</td>\n",
       "    </tr>\n",
       "  </tbody>\n",
       "</table>\n",
       "<p>27820 rows × 11 columns</p>\n",
       "</div>"
      ],
      "text/plain": [
       "       country  year  sex  age  suicides_no  population  suicides/100k pop  \\\n",
       "0           68  1987    1    1           21      312900               6.71   \n",
       "1           68  1987    1    3           16      308000               5.19   \n",
       "2           68  1987    0    1           14      289700               4.83   \n",
       "3           68  1987    1    5            1       21800               4.59   \n",
       "4           68  1987    1    2            9      274300               3.28   \n",
       "...        ...   ...  ...  ...          ...         ...                ...   \n",
       "27815       16  2014    0    3          107     3620833               2.96   \n",
       "27816       16  2014    0    5            9      348465               2.58   \n",
       "27817       16  2014    1    0           60     2762158               2.17   \n",
       "27818       16  2014    0    0           44     2631600               1.67   \n",
       "27819       16  2014    0    4           21     1438935               1.46   \n",
       "\n",
       "       HDI for year   gdp_for_year ($)   gdp_per_capita ($)  generation  \n",
       "0        -99999.000                1786                 796           4  \n",
       "1        -99999.000                1786                 796           0  \n",
       "2        -99999.000                1786                 796           4  \n",
       "3        -99999.000                1786                 796           2  \n",
       "4        -99999.000                1786                 796           5  \n",
       "...             ...                 ...                 ...         ...  \n",
       "27815         0.675                1991                2309           4  \n",
       "27816         0.675                1991                2309           0  \n",
       "27817         0.675                1991                2309           3  \n",
       "27818         0.675                1991                2309           3  \n",
       "27819         0.675                1991                2309           5  \n",
       "\n",
       "[27820 rows x 11 columns]"
      ]
     },
     "execution_count": 13,
     "metadata": {},
     "output_type": "execute_result"
    }
   ],
   "source": [
    "non_num_data(df)\n",
    "df"
   ]
  },
  {
   "cell_type": "markdown",
   "metadata": {
    "papermill": {
     "duration": 0.040022,
     "end_time": "2020-11-08T09:23:28.440653",
     "exception": false,
     "start_time": "2020-11-08T09:23:28.400631",
     "status": "completed"
    },
    "tags": []
   },
   "source": [
    "# Pipelines"
   ]
  },
  {
   "cell_type": "markdown",
   "metadata": {
    "papermill": {
     "duration": 0.038712,
     "end_time": "2020-11-08T09:23:28.518934",
     "exception": false,
     "start_time": "2020-11-08T09:23:28.480222",
     "status": "completed"
    },
    "tags": []
   },
   "source": [
    "Creating X and Y for the data"
   ]
  },
  {
   "cell_type": "code",
   "execution_count": 14,
   "metadata": {
    "execution": {
     "iopub.execute_input": "2020-11-08T09:23:28.603901Z",
     "iopub.status.busy": "2020-11-08T09:23:28.602721Z",
     "iopub.status.idle": "2020-11-08T09:23:28.610984Z",
     "shell.execute_reply": "2020-11-08T09:23:28.611604Z"
    },
    "papermill": {
     "duration": 0.053746,
     "end_time": "2020-11-08T09:23:28.611751",
     "exception": false,
     "start_time": "2020-11-08T09:23:28.558005",
     "status": "completed"
    },
    "tags": []
   },
   "outputs": [],
   "source": [
    "X_df=df.drop('suicides_no',1)\n",
    "y_df=df['suicides_no']"
   ]
  },
  {
   "cell_type": "code",
   "execution_count": 15,
   "metadata": {
    "execution": {
     "iopub.execute_input": "2020-11-08T09:23:28.695881Z",
     "iopub.status.busy": "2020-11-08T09:23:28.695032Z",
     "iopub.status.idle": "2020-11-08T09:23:28.699283Z",
     "shell.execute_reply": "2020-11-08T09:23:28.698553Z"
    },
    "papermill": {
     "duration": 0.048054,
     "end_time": "2020-11-08T09:23:28.699405",
     "exception": false,
     "start_time": "2020-11-08T09:23:28.651351",
     "status": "completed"
    },
    "tags": []
   },
   "outputs": [
    {
     "name": "stdout",
     "output_type": "stream",
     "text": [
      "(27820, 10) (27820,)\n"
     ]
    }
   ],
   "source": [
    "print(X_df.shape,y_df.shape)"
   ]
  },
  {
   "cell_type": "markdown",
   "metadata": {
    "papermill": {
     "duration": 0.039519,
     "end_time": "2020-11-08T09:23:28.778406",
     "exception": false,
     "start_time": "2020-11-08T09:23:28.738887",
     "status": "completed"
    },
    "tags": []
   },
   "source": [
    "* Re-shuffling the data"
   ]
  },
  {
   "cell_type": "code",
   "execution_count": 16,
   "metadata": {
    "execution": {
     "iopub.execute_input": "2020-11-08T09:23:28.864349Z",
     "iopub.status.busy": "2020-11-08T09:23:28.863636Z",
     "iopub.status.idle": "2020-11-08T09:23:28.889239Z",
     "shell.execute_reply": "2020-11-08T09:23:28.888590Z"
    },
    "papermill": {
     "duration": 0.071299,
     "end_time": "2020-11-08T09:23:28.889366",
     "exception": false,
     "start_time": "2020-11-08T09:23:28.818067",
     "status": "completed"
    },
    "tags": []
   },
   "outputs": [
    {
     "data": {
      "text/html": [
       "<div>\n",
       "<style scoped>\n",
       "    .dataframe tbody tr th:only-of-type {\n",
       "        vertical-align: middle;\n",
       "    }\n",
       "\n",
       "    .dataframe tbody tr th {\n",
       "        vertical-align: top;\n",
       "    }\n",
       "\n",
       "    .dataframe thead th {\n",
       "        text-align: right;\n",
       "    }\n",
       "</style>\n",
       "<table border=\"1\" class=\"dataframe\">\n",
       "  <thead>\n",
       "    <tr style=\"text-align: right;\">\n",
       "      <th></th>\n",
       "      <th>country</th>\n",
       "      <th>year</th>\n",
       "      <th>sex</th>\n",
       "      <th>age</th>\n",
       "      <th>suicides_no</th>\n",
       "      <th>population</th>\n",
       "      <th>suicides/100k pop</th>\n",
       "      <th>HDI for year</th>\n",
       "      <th>gdp_for_year ($)</th>\n",
       "      <th>gdp_per_capita ($)</th>\n",
       "      <th>generation</th>\n",
       "    </tr>\n",
       "  </thead>\n",
       "  <tbody>\n",
       "    <tr>\n",
       "      <th>502</th>\n",
       "      <td>12</td>\n",
       "      <td>2006</td>\n",
       "      <td>1</td>\n",
       "      <td>4</td>\n",
       "      <td>0</td>\n",
       "      <td>3847</td>\n",
       "      <td>0.00</td>\n",
       "      <td>-99999.000</td>\n",
       "      <td>2040</td>\n",
       "      <td>14114</td>\n",
       "      <td>0</td>\n",
       "    </tr>\n",
       "    <tr>\n",
       "      <th>18234</th>\n",
       "      <td>26</td>\n",
       "      <td>2009</td>\n",
       "      <td>0</td>\n",
       "      <td>3</td>\n",
       "      <td>0</td>\n",
       "      <td>197737</td>\n",
       "      <td>0.00</td>\n",
       "      <td>-99999.000</td>\n",
       "      <td>1207</td>\n",
       "      <td>18557</td>\n",
       "      <td>5</td>\n",
       "    </tr>\n",
       "    <tr>\n",
       "      <th>22519</th>\n",
       "      <td>21</td>\n",
       "      <td>1994</td>\n",
       "      <td>1</td>\n",
       "      <td>0</td>\n",
       "      <td>1</td>\n",
       "      <td>223300</td>\n",
       "      <td>0.45</td>\n",
       "      <td>-99999.000</td>\n",
       "      <td>1095</td>\n",
       "      <td>27202</td>\n",
       "      <td>1</td>\n",
       "    </tr>\n",
       "    <tr>\n",
       "      <th>19391</th>\n",
       "      <td>22</td>\n",
       "      <td>1987</td>\n",
       "      <td>0</td>\n",
       "      <td>0</td>\n",
       "      <td>2</td>\n",
       "      <td>787188</td>\n",
       "      <td>0.25</td>\n",
       "      <td>-99999.000</td>\n",
       "      <td>95</td>\n",
       "      <td>5138</td>\n",
       "      <td>4</td>\n",
       "    </tr>\n",
       "    <tr>\n",
       "      <th>26636</th>\n",
       "      <td>10</td>\n",
       "      <td>1998</td>\n",
       "      <td>1</td>\n",
       "      <td>1</td>\n",
       "      <td>382</td>\n",
       "      <td>3673423</td>\n",
       "      <td>10.40</td>\n",
       "      <td>-99999.000</td>\n",
       "      <td>1837</td>\n",
       "      <td>29508</td>\n",
       "      <td>4</td>\n",
       "    </tr>\n",
       "    <tr>\n",
       "      <th>...</th>\n",
       "      <td>...</td>\n",
       "      <td>...</td>\n",
       "      <td>...</td>\n",
       "      <td>...</td>\n",
       "      <td>...</td>\n",
       "      <td>...</td>\n",
       "      <td>...</td>\n",
       "      <td>...</td>\n",
       "      <td>...</td>\n",
       "      <td>...</td>\n",
       "      <td>...</td>\n",
       "    </tr>\n",
       "    <tr>\n",
       "      <th>3734</th>\n",
       "      <td>85</td>\n",
       "      <td>2009</td>\n",
       "      <td>1</td>\n",
       "      <td>1</td>\n",
       "      <td>90</td>\n",
       "      <td>661817</td>\n",
       "      <td>13.60</td>\n",
       "      <td>-99999.000</td>\n",
       "      <td>1545</td>\n",
       "      <td>47630</td>\n",
       "      <td>1</td>\n",
       "    </tr>\n",
       "    <tr>\n",
       "      <th>19909</th>\n",
       "      <td>70</td>\n",
       "      <td>2004</td>\n",
       "      <td>1</td>\n",
       "      <td>3</td>\n",
       "      <td>101</td>\n",
       "      <td>449605</td>\n",
       "      <td>22.46</td>\n",
       "      <td>-99999.000</td>\n",
       "      <td>789</td>\n",
       "      <td>22874</td>\n",
       "      <td>5</td>\n",
       "    </tr>\n",
       "    <tr>\n",
       "      <th>16965</th>\n",
       "      <td>55</td>\n",
       "      <td>2001</td>\n",
       "      <td>1</td>\n",
       "      <td>2</td>\n",
       "      <td>0</td>\n",
       "      <td>43146</td>\n",
       "      <td>0.00</td>\n",
       "      <td>-99999.000</td>\n",
       "      <td>810</td>\n",
       "      <td>2004</td>\n",
       "      <td>4</td>\n",
       "    </tr>\n",
       "    <tr>\n",
       "      <th>13102</th>\n",
       "      <td>80</td>\n",
       "      <td>2011</td>\n",
       "      <td>1</td>\n",
       "      <td>3</td>\n",
       "      <td>1137</td>\n",
       "      <td>9024678</td>\n",
       "      <td>12.60</td>\n",
       "      <td>0.873</td>\n",
       "      <td>1436</td>\n",
       "      <td>40210</td>\n",
       "      <td>4</td>\n",
       "    </tr>\n",
       "    <tr>\n",
       "      <th>21383</th>\n",
       "      <td>11</td>\n",
       "      <td>1993</td>\n",
       "      <td>0</td>\n",
       "      <td>1</td>\n",
       "      <td>0</td>\n",
       "      <td>14011</td>\n",
       "      <td>0.00</td>\n",
       "      <td>-99999.000</td>\n",
       "      <td>1282</td>\n",
       "      <td>4568</td>\n",
       "      <td>4</td>\n",
       "    </tr>\n",
       "  </tbody>\n",
       "</table>\n",
       "<p>27820 rows × 11 columns</p>\n",
       "</div>"
      ],
      "text/plain": [
       "       country  year  sex  age  suicides_no  population  suicides/100k pop  \\\n",
       "502         12  2006    1    4            0        3847               0.00   \n",
       "18234       26  2009    0    3            0      197737               0.00   \n",
       "22519       21  1994    1    0            1      223300               0.45   \n",
       "19391       22  1987    0    0            2      787188               0.25   \n",
       "26636       10  1998    1    1          382     3673423              10.40   \n",
       "...        ...   ...  ...  ...          ...         ...                ...   \n",
       "3734        85  2009    1    1           90      661817              13.60   \n",
       "19909       70  2004    1    3          101      449605              22.46   \n",
       "16965       55  2001    1    2            0       43146               0.00   \n",
       "13102       80  2011    1    3         1137     9024678              12.60   \n",
       "21383       11  1993    0    1            0       14011               0.00   \n",
       "\n",
       "       HDI for year   gdp_for_year ($)   gdp_per_capita ($)  generation  \n",
       "502      -99999.000                2040               14114           0  \n",
       "18234    -99999.000                1207               18557           5  \n",
       "22519    -99999.000                1095               27202           1  \n",
       "19391    -99999.000                  95                5138           4  \n",
       "26636    -99999.000                1837               29508           4  \n",
       "...             ...                 ...                 ...         ...  \n",
       "3734     -99999.000                1545               47630           1  \n",
       "19909    -99999.000                 789               22874           5  \n",
       "16965    -99999.000                 810                2004           4  \n",
       "13102         0.873                1436               40210           4  \n",
       "21383    -99999.000                1282                4568           4  \n",
       "\n",
       "[27820 rows x 11 columns]"
      ]
     },
     "execution_count": 16,
     "metadata": {},
     "output_type": "execute_result"
    }
   ],
   "source": [
    "df=df.sample(frac=1)\n",
    "df"
   ]
  },
  {
   "cell_type": "markdown",
   "metadata": {
    "papermill": {
     "duration": 0.040732,
     "end_time": "2020-11-08T09:23:28.970821",
     "exception": false,
     "start_time": "2020-11-08T09:23:28.930089",
     "status": "completed"
    },
    "tags": []
   },
   "source": [
    "* train-test split \n",
    "\n",
    "As the data is large   a 70-30 train-test split is good for prediction"
   ]
  },
  {
   "cell_type": "code",
   "execution_count": 17,
   "metadata": {
    "execution": {
     "iopub.execute_input": "2020-11-08T09:23:29.060383Z",
     "iopub.status.busy": "2020-11-08T09:23:29.059242Z",
     "iopub.status.idle": "2020-11-08T09:23:29.067761Z",
     "shell.execute_reply": "2020-11-08T09:23:29.068350Z"
    },
    "papermill": {
     "duration": 0.056853,
     "end_time": "2020-11-08T09:23:29.068508",
     "exception": false,
     "start_time": "2020-11-08T09:23:29.011655",
     "status": "completed"
    },
    "tags": []
   },
   "outputs": [
    {
     "name": "stdout",
     "output_type": "stream",
     "text": [
      "(19474, 10) (8346, 10) (19474,) (8346,)\n"
     ]
    }
   ],
   "source": [
    "\n",
    "X_train,X_test,y_train,y_test=train_test_split(X_df,y_df,test_size=0.3)\n",
    "print(X_train.shape,X_test.shape,y_train.shape,y_test.shape)"
   ]
  },
  {
   "cell_type": "markdown",
   "metadata": {
    "papermill": {
     "duration": 0.04119,
     "end_time": "2020-11-08T09:23:29.151441",
     "exception": false,
     "start_time": "2020-11-08T09:23:29.110251",
     "status": "completed"
    },
    "tags": []
   },
   "source": [
    "Regression models"
   ]
  },
  {
   "cell_type": "markdown",
   "metadata": {
    "papermill": {
     "duration": 0.040585,
     "end_time": "2020-11-08T09:23:29.233884",
     "exception": false,
     "start_time": "2020-11-08T09:23:29.193299",
     "status": "completed"
    },
    "tags": []
   },
   "source": [
    "LinearRegression"
   ]
  },
  {
   "cell_type": "code",
   "execution_count": 18,
   "metadata": {
    "execution": {
     "iopub.execute_input": "2020-11-08T09:23:29.332166Z",
     "iopub.status.busy": "2020-11-08T09:23:29.331413Z",
     "iopub.status.idle": "2020-11-08T09:23:29.425122Z",
     "shell.execute_reply": "2020-11-08T09:23:29.423614Z"
    },
    "papermill": {
     "duration": 0.147241,
     "end_time": "2020-11-08T09:23:29.425319",
     "exception": false,
     "start_time": "2020-11-08T09:23:29.278078",
     "status": "completed"
    },
    "tags": []
   },
   "outputs": [
    {
     "name": "stdout",
     "output_type": "stream",
     "text": [
      "accuracy of linearregression :  0.4665927573555566\n",
      "MSE of the data using Linear Regression :  390850.2769174784\n",
      "r-squared error of the data using Linear Regression :  0.5075984657100057\n",
      "RMSE of the data using Linear Regression :  625.1801955576316\n"
     ]
    }
   ],
   "source": [
    "\n",
    "model=linear_model.LinearRegression()\n",
    "model.fit(X_train,y_train)\n",
    "print('accuracy of linearregression : ',model.score(X_train,y_train))\n",
    "y_pr1=model.predict(X_test)\n",
    "print('MSE of the data using Linear Regression : ',mean_squared_error(y_test,y_pr1))\n",
    "print('r-squared error of the data using Linear Regression : ',1-r2_score(y_test,y_pr1))\n",
    "print('RMSE of the data using Linear Regression : ',np.sqrt(mean_squared_error(y_test,y_pr1)))"
   ]
  },
  {
   "cell_type": "code",
   "execution_count": 19,
   "metadata": {
    "execution": {
     "iopub.execute_input": "2020-11-08T09:23:29.546271Z",
     "iopub.status.busy": "2020-11-08T09:23:29.545417Z",
     "iopub.status.idle": "2020-11-08T09:23:29.953411Z",
     "shell.execute_reply": "2020-11-08T09:23:29.952687Z"
    },
    "papermill": {
     "duration": 0.475785,
     "end_time": "2020-11-08T09:23:29.953532",
     "exception": false,
     "start_time": "2020-11-08T09:23:29.477747",
     "status": "completed"
    },
    "tags": []
   },
   "outputs": [
    {
     "data": {
      "image/png": "[encoded data removed]",
      "text/plain": [
       "<Figure size 432x288 with 1 Axes>"
      ]
     },
     "metadata": {
      "needs_background": "light"
     },
     "output_type": "display_data"
    }
   ],
   "source": [
    "a=np.arange(1,len(y_test)+1,1)\n",
    "plt.scatter(a,y_test,label='true',s=5)\n",
    "plt.legend()\n",
    "plt.scatter(a,y_pr1,label='predicted',s=5)\n",
    "plt.legend()\n",
    "plt.show()"
   ]
  },
  {
   "cell_type": "markdown",
   "metadata": {
    "papermill": {
     "duration": 0.043631,
     "end_time": "2020-11-08T09:23:30.040991",
     "exception": false,
     "start_time": "2020-11-08T09:23:29.997360",
     "status": "completed"
    },
    "tags": []
   },
   "source": [
    "Randomforestregressor"
   ]
  },
  {
   "cell_type": "code",
   "execution_count": 20,
   "metadata": {
    "execution": {
     "iopub.execute_input": "2020-11-08T09:23:30.138093Z",
     "iopub.status.busy": "2020-11-08T09:23:30.137388Z",
     "iopub.status.idle": "2020-11-08T09:23:40.452720Z",
     "shell.execute_reply": "2020-11-08T09:23:40.451705Z"
    },
    "papermill": {
     "duration": 10.368412,
     "end_time": "2020-11-08T09:23:40.452883",
     "exception": false,
     "start_time": "2020-11-08T09:23:30.084471",
     "status": "completed"
    },
    "tags": []
   },
   "outputs": [
    {
     "name": "stdout",
     "output_type": "stream",
     "text": [
      "accuracy of randomforestregression :  0.9993529247825503\n",
      "MSE of the data using randomforestregression :  2047.4903522645566\n",
      "r-squared error of the data using randomforestregression :  0.0026590820647799385\n",
      "RMSE of the data using randomforestregression :  45.24920278043091\n"
     ]
    }
   ],
   "source": [
    "\n",
    "model=RandomForestRegressor()\n",
    "model.fit(X_train,y_train)\n",
    "print('accuracy of randomforestregression : ',model.score(X_train,y_train))\n",
    "y_pr1=model.predict(X_test)\n",
    "print('MSE of the data using randomforestregression : ',mean_squared_error(y_test,y_pr1))\n",
    "print('r-squared error of the data using randomforestregression : ',1-r2_score(y_test,y_pr1))\n",
    "print('RMSE of the data using randomforestregression : ',np.sqrt(mean_squared_error(y_test,y_pr1)))"
   ]
  },
  {
   "cell_type": "code",
   "execution_count": 21,
   "metadata": {
    "execution": {
     "iopub.execute_input": "2020-11-08T09:23:40.554035Z",
     "iopub.status.busy": "2020-11-08T09:23:40.552996Z",
     "iopub.status.idle": "2020-11-08T09:23:40.924362Z",
     "shell.execute_reply": "2020-11-08T09:23:40.923756Z"
    },
    "papermill": {
     "duration": 0.426823,
     "end_time": "2020-11-08T09:23:40.924479",
     "exception": false,
     "start_time": "2020-11-08T09:23:40.497656",
     "status": "completed"
    },
    "tags": []
   },
   "outputs": [
    {
     "data": {
      "image/png": "[encoded data removed]",
      "text/plain": [
       "<Figure size 432x288 with 1 Axes>"
      ]
     },
     "metadata": {
      "needs_background": "light"
     },
     "output_type": "display_data"
    }
   ],
   "source": [
    "plt.scatter(a,y_test,label='true',s=5)\n",
    "plt.legend()\n",
    "plt.scatter(a,y_pr1,label='predicted',s=5)\n",
    "plt.legend()\n",
    "plt.show()"
   ]
  },
  {
   "cell_type": "markdown",
   "metadata": {
    "papermill": {
     "duration": 0.045255,
     "end_time": "2020-11-08T09:23:41.015491",
     "exception": false,
     "start_time": "2020-11-08T09:23:40.970236",
     "status": "completed"
    },
    "tags": []
   },
   "source": [
    "RandomForestRegressor showed huge accuracy over the model.\n",
    "\n",
    "Previously we decided to predict the model after droping the HDI column. \n",
    "\n",
    "we are going to execute that now."
   ]
  },
  {
   "cell_type": "code",
   "execution_count": 22,
   "metadata": {
    "execution": {
     "iopub.execute_input": "2020-11-08T09:23:41.115013Z",
     "iopub.status.busy": "2020-11-08T09:23:41.114331Z",
     "iopub.status.idle": "2020-11-08T09:23:41.117062Z",
     "shell.execute_reply": "2020-11-08T09:23:41.117628Z"
    },
    "papermill": {
     "duration": 0.056536,
     "end_time": "2020-11-08T09:23:41.117771",
     "exception": false,
     "start_time": "2020-11-08T09:23:41.061235",
     "status": "completed"
    },
    "tags": []
   },
   "outputs": [],
   "source": [
    "X_trr=X_train.drop('HDI for year',1)\n",
    "X_ter=X_test.drop('HDI for year',1)"
   ]
  },
  {
   "cell_type": "code",
   "execution_count": 23,
   "metadata": {
    "execution": {
     "iopub.execute_input": "2020-11-08T09:23:41.218890Z",
     "iopub.status.busy": "2020-11-08T09:23:41.218119Z",
     "iopub.status.idle": "2020-11-08T09:23:50.926826Z",
     "shell.execute_reply": "2020-11-08T09:23:50.927433Z"
    },
    "papermill": {
     "duration": 9.76401,
     "end_time": "2020-11-08T09:23:50.927584",
     "exception": false,
     "start_time": "2020-11-08T09:23:41.163574",
     "status": "completed"
    },
    "tags": []
   },
   "outputs": [
    {
     "name": "stdout",
     "output_type": "stream",
     "text": [
      "accuracy of randomforestregression :  0.9993488247912955\n",
      "MSE of the data using randomforestregression :  1881.9470381739752\n",
      "r-squared error of the data using randomforestregression :  0.0024440904498227445\n",
      "RMSE of the data using randomforestregression :  43.38141351055744\n"
     ]
    }
   ],
   "source": [
    "model.fit(X_trr,y_train)\n",
    "print('accuracy of randomforestregression : ',model.score(X_trr,y_train))\n",
    "y_pr1=model.predict(X_ter)\n",
    "print('MSE of the data using randomforestregression : ',mean_squared_error(y_test,y_pr1))\n",
    "print('r-squared error of the data using randomforestregression : ',1-r2_score(y_test,y_pr1))\n",
    "print('RMSE of the data using randomforestregression : ',np.sqrt(mean_squared_error(y_test,y_pr1)))"
   ]
  },
  {
   "cell_type": "markdown",
   "metadata": {
    "papermill": {
     "duration": 0.046348,
     "end_time": "2020-11-08T09:23:51.020808",
     "exception": false,
     "start_time": "2020-11-08T09:23:50.974460",
     "status": "completed"
    },
    "tags": []
   },
   "source": [
    "Surely it shows that droping that 'HDI for year' column increases the accuracy of the model and it concludes that heavy leakage may mislead the data and omitting that in a huge dataset might help you gain higher accuracy"
   ]
  },
  {
   "cell_type": "markdown",
   "metadata": {
    "papermill": {
     "duration": 0.046359,
     "end_time": "2020-11-08T09:23:51.114096",
     "exception": false,
     "start_time": "2020-11-08T09:23:51.067737",
     "status": "completed"
    },
    "tags": []
   },
   "source": [
    "# UPVOTE if you like this EDA  :)"
   ]
  },
  {
   "attachments": {
    "the%20end.jpg": {
     "image/jpeg": "[encoded data removed]"
    }
   },
   "cell_type": "markdown",
   "metadata": {
    "papermill": {
     "duration": 0.046653,
     "end_time": "2020-11-08T09:23:51.207082",
     "exception": false,
     "start_time": "2020-11-08T09:23:51.160429",
     "status": "completed"
    },
    "tags": []
   },
   "source": [
    "![the%20end.jpg](attachment:the%20end.jpg)"
   ]
  }
 ],
 "metadata": {
  "kernelspec": {
   "display_name": "Python 3",
   "language": "python",
   "name": "python3"
  },
  "language_info": {
   "codemirror_mode": {
    "name": "ipython",
    "version": 3
   },
   "file_extension": ".py",
   "mimetype": "text/x-python",
   "name": "python",
   "nbconvert_exporter": "python",
   "pygments_lexer": "ipython3",
   "version": "3.7.6"
  },
  "papermill": {
   "duration": 31.791891,
   "end_time": "2020-11-08T09:23:52.269066",
   "environment_variables": {},
   "exception": null,
   "input_path": "__notebook__.ipynb",
   "output_path": "__notebook__.ipynb",
   "parameters": {},
   "start_time": "2020-11-08T09:23:20.477175",
   "version": "2.1.0"
  }
 },
 "nbformat": 4,
 "nbformat_minor": 4
}
